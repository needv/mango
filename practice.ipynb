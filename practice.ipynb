{
 "cells": [
  {
   "cell_type": "markdown",
   "id": "44ab8215-9ef0-4f03-a2a1-526f9cdb3f66",
   "metadata": {},
   "source": [
    "# this is a Jupyter notebook, just for practice"
   ]
  },
  {
   "cell_type": "markdown",
   "id": "dba2b40c-ce2a-4527-a5a1-794f1f1b6f63",
   "metadata": {},
   "source": [
    "this is a jupyter notebook"
   ]
  },
  {
   "cell_type": "code",
   "execution_count": 1,
   "id": "9ee4cf1b-0f9d-47b4-95bf-3314829f476a",
   "metadata": {},
   "outputs": [
    {
     "data": {
      "text/plain": [
       "5"
      ]
     },
     "execution_count": 1,
     "metadata": {},
     "output_type": "execute_result"
    }
   ],
   "source": [
    "2 + 3"
   ]
  },
  {
   "cell_type": "code",
   "execution_count": null,
   "id": "88a6d04a-1612-447e-b786-e7eb0d735dad",
   "metadata": {},
   "outputs": [],
   "source": []
  }
 ],
 "metadata": {
  "kernelspec": {
   "display_name": "Python 3 (ipykernel)",
   "language": "python",
   "name": "python3"
  },
  "language_info": {
   "codemirror_mode": {
    "name": "ipython",
    "version": 3
   },
   "file_extension": ".py",
   "mimetype": "text/x-python",
   "name": "python",
   "nbconvert_exporter": "python",
   "pygments_lexer": "ipython3",
   "version": "3.12.2"
  }
 },
 "nbformat": 4,
 "nbformat_minor": 5
}
